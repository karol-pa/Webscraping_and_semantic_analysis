{
 "cells": [
  {
   "cell_type": "code",
   "execution_count": 484,
   "id": "4da9c8da-3dce-4a24-b59a-356bc9dafbf3",
   "metadata": {
    "tags": []
   },
   "outputs": [],
   "source": [
    "import numpy as np\n",
    "import pandas as pd\n",
    "import requests\n",
    "from bs4 import BeautifulSoup\n",
    "\n",
    "import re\n",
    "\n",
    "#selenium?\n",
    "#https://betterprogramming.pub/infinite-scrolling-with-selenium-c25808c16993\n",
    "\n",
    "\n",
    "\n",
    "\n",
    "#https://scrapeops.io/python-web-scraping-playbook/python-beautifulsoup-findall/"
   ]
  },
  {
   "cell_type": "markdown",
   "id": "8bf8589e-750e-45a4-8ea1-30935eacd0fc",
   "metadata": {},
   "source": [
    "### Download TOP game titles and urls"
   ]
  },
  {
   "cell_type": "code",
   "execution_count": 737,
   "id": "fad0b035-1471-4c6c-957e-e67590bce2eb",
   "metadata": {
    "tags": []
   },
   "outputs": [],
   "source": [
    "url = \"https://www.metacritic.com/browse/game/?releaseYearMin=1958&releaseYearMax=2024&page=1\"\n",
    "userAgent = {'User-agent': 'Firefox'}\n",
    "response = requests.get(url, headers=userAgent)\n",
    "soup = BeautifulSoup(response.text, 'html.parser')"
   ]
  },
  {
   "cell_type": "code",
   "execution_count": 756,
   "id": "7c0ac0b2-f56b-4f8f-b276-cecc56f4cd4e",
   "metadata": {
    "tags": []
   },
   "outputs": [],
   "source": [
    "data_dict = {'place':[] , 'title':[], 'url':[]}#, 'platform':[], 'release_date':[], 'metascore':[], 'user_score':[]}"
   ]
  },
  {
   "cell_type": "code",
   "execution_count": 757,
   "id": "5eea49e6-a3ba-4dce-9bbe-7328e192e854",
   "metadata": {
    "tags": []
   },
   "outputs": [],
   "source": [
    "titles = soup.find_all('div', class_='c-finderProductCard_title')\n",
    "urls = soup.find_all('a',class_=\"c-finderProductCard_container g-color-gray80 u-grid\", href=True)\n",
    "                                 \n",
    "                                 \n",
    "                             "
   ]
  },
  {
   "cell_type": "code",
   "execution_count": 758,
   "id": "fcafa3b3-fb13-4f15-93e3-a48e49cdf3ac",
   "metadata": {
    "tags": []
   },
   "outputs": [],
   "source": [
    "\n",
    "\n",
    "for game in range(0,len(titles)):\n",
    "    data_dict['place'].append(int(float(titles[game].find_all('h3')[0].find('span').text)))\n",
    "    data_dict['title'].append(titles[game]['data-title'])\n",
    "    data_dict['url'].append(urls[game]['href'])"
   ]
  },
  {
   "cell_type": "code",
   "execution_count": 761,
   "id": "c56d8da3-988e-448d-9b21-58f507817621",
   "metadata": {
    "tags": []
   },
   "outputs": [],
   "source": [
    "all_games = pd.DataFrame(data_dict)"
   ]
  },
  {
   "cell_type": "code",
   "execution_count": 763,
   "id": "c5ce6407-9d1a-4afa-a269-bffac4855f32",
   "metadata": {
    "tags": []
   },
   "outputs": [
    {
     "data": {
      "text/plain": [
       "'/game/the-legend-of-zelda-ocarina-of-time/'"
      ]
     },
     "execution_count": 763,
     "metadata": {},
     "output_type": "execute_result"
    }
   ],
   "source": [
    "all_games['url'][0]"
   ]
  },
  {
   "cell_type": "markdown",
   "id": "23ebbf8d-fb2c-4c53-8458-771b63dab794",
   "metadata": {
    "tags": []
   },
   "source": [
    "### Download user reviews with `BeautifulSoup`"
   ]
  },
  {
   "cell_type": "code",
   "execution_count": 782,
   "id": "db2a3a14-f8fc-4451-a32d-ed04fd477511",
   "metadata": {
    "tags": []
   },
   "outputs": [],
   "source": [
    "url = \"https://www.metacritic.com\"+all_games['url'][0]+\"user-reviews/\"\n",
    "response = requests.get(url, headers=userAgent).text\n",
    "soup = BeautifulSoup(response, 'html.parser')"
   ]
  },
  {
   "cell_type": "code",
   "execution_count": 773,
   "id": "ce4b0825-58e2-4eb1-972d-d05950c4dfb4",
   "metadata": {
    "tags": []
   },
   "outputs": [],
   "source": [
    "#soup2.find_all('script')[10]"
   ]
  },
  {
   "cell_type": "code",
   "execution_count": null,
   "id": "0e4a4280-8831-4f63-9c92-3c34054db239",
   "metadata": {
    "tags": []
   },
   "outputs": [],
   "source": []
  },
  {
   "cell_type": "code",
   "execution_count": 775,
   "id": "31edeb8a-b9f6-4597-913b-60b77a7b9f14",
   "metadata": {
    "tags": []
   },
   "outputs": [],
   "source": [
    "S = soup.find_all('script')[10].text"
   ]
  },
  {
   "cell_type": "code",
   "execution_count": 776,
   "id": "19ba3840-1b73-42bd-a587-3b075c8f13f4",
   "metadata": {
    "tags": []
   },
   "outputs": [],
   "source": [
    "\n",
    "def extract_text(Lb, Rb, S):\n",
    "\n",
    "    Lb_pattern = re.escape(Lb)  \n",
    "    Rb_pattern = re.escape(Rb)\n",
    "\n",
    "\n",
    "    pattern = f\"{Lb_pattern}(.*?){Rb_pattern}\"\n",
    "    #match = re.search(pattern, S)\n",
    "\n",
    "    extracted_string = re.findall(pattern, S)#.group(1)\n",
    "    return  extracted_string\n",
    "\n",
    "\n",
    "    \n"
   ]
  },
  {
   "cell_type": "code",
   "execution_count": 777,
   "id": "1996a3bb-6e78-43f4-9a17-34eebcf20f78",
   "metadata": {
    "tags": []
   },
   "outputs": [],
   "source": [
    "#Lb = 'componentType=ReviewList\"}]},items:['\n",
    "#Rb = '}],total:'\n",
    "#extract_text(Lb, Rb, S)\n",
    "#https://www.scaler.com/topics/remove-special-characters-from-string-python/\n"
   ]
  },
  {
   "cell_type": "code",
   "execution_count": 778,
   "id": "b879ca57-210f-447c-8f48-45cd76e69a4e",
   "metadata": {
    "tags": []
   },
   "outputs": [],
   "source": [
    "Lb = 'quote:\"'\n",
    "Rb = '\",platform'\n",
    "\n",
    "reviews = extract_text(Lb, Rb, S)"
   ]
  },
  {
   "cell_type": "code",
   "execution_count": 779,
   "id": "86cdeab5-f68c-4e65-9fd8-c418759a8338",
   "metadata": {
    "tags": []
   },
   "outputs": [],
   "source": [
    "Lb = 'j,score:'\n",
    "Rb = ',metaScore:f'\n",
    "\n",
    "scores = extract_text(Lb, Rb, S)"
   ]
  },
  {
   "cell_type": "code",
   "execution_count": 780,
   "id": "e05c3f8f-e406-47be-afec-b06c0c55e483",
   "metadata": {
    "tags": []
   },
   "outputs": [],
   "source": [
    "review_dict = {'review':[] , 'score':[]}#, 'platform':[], 'release_date':[], 'metascore':[], 'user_score':[]}\n",
    "for review in range(0,len(reviews)):\n",
    "    review_dict['review'].append(reviews[review])\n",
    "    review_dict['score'].append(scores[review])\n",
    "   "
   ]
  },
  {
   "cell_type": "code",
   "execution_count": null,
   "id": "575f3236-4ed6-4fd0-ba0b-fe36b5dfd1db",
   "metadata": {
    "tags": []
   },
   "outputs": [],
   "source": []
  },
  {
   "cell_type": "code",
   "execution_count": 781,
   "id": "6e75731d-ec10-4c15-9b8d-586995c76d71",
   "metadata": {
    "tags": []
   },
   "outputs": [
    {
     "data": {
      "text/html": [
       "<div>\n",
       "<style scoped>\n",
       "    .dataframe tbody tr th:only-of-type {\n",
       "        vertical-align: middle;\n",
       "    }\n",
       "\n",
       "    .dataframe tbody tr th {\n",
       "        vertical-align: top;\n",
       "    }\n",
       "\n",
       "    .dataframe thead th {\n",
       "        text-align: right;\n",
       "    }\n",
       "</style>\n",
       "<table border=\"1\" class=\"dataframe\">\n",
       "  <thead>\n",
       "    <tr style=\"text-align: right;\">\n",
       "      <th></th>\n",
       "      <th>review</th>\n",
       "      <th>score</th>\n",
       "    </tr>\n",
       "  </thead>\n",
       "  <tbody>\n",
       "    <tr>\n",
       "      <th>0</th>\n",
       "      <td>Un jeu exceptionnel.\\nTout d'abors, il a révoluitionné le mileu du Jv tou...</td>\n",
       "      <td>10</td>\n",
       "    </tr>\n",
       "    <tr>\n",
       "      <th>1</th>\n",
       "      <td>I am writing this review in 2024. It's been about 26 Years since Ocarina ...</td>\n",
       "      <td>10</td>\n",
       "    </tr>\n",
       "    <tr>\n",
       "      <th>2</th>\n",
       "      <td>Best game of all times? I`m not quite sure.\\nThe game certainly deserves ...</td>\n",
       "      <td>8</td>\n",
       "    </tr>\n",
       "    <tr>\n",
       "      <th>3</th>\n",
       "      <td>Le jeu a suffisamment d'arguments pour considérer qu'il s'agit, encore en...</td>\n",
       "      <td>10</td>\n",
       "    </tr>\n",
       "    <tr>\n",
       "      <th>4</th>\n",
       "      <td>o jogo é bom e é só isso msm, o jogo é bom e é só isso msm, o jogo é bom ...</td>\n",
       "      <td>10</td>\n",
       "    </tr>\n",
       "    <tr>\n",
       "      <th>5</th>\n",
       "      <td>iyi bi oyun ama remastered akarmı ? akar çünkü tarihin en iyisi bu oyun n...</td>\n",
       "      <td>10</td>\n",
       "    </tr>\n",
       "    <tr>\n",
       "      <th>6</th>\n",
       "      <td>legendery a childhood stuffed in a cart! i got kicked out off class becau...</td>\n",
       "      <td>10</td>\n",
       "    </tr>\n",
       "    <tr>\n",
       "      <th>7</th>\n",
       "      <td>One of the (if not THE) best games ever made. Perfection in it´s maximum ...</td>\n",
       "      <td>10</td>\n",
       "    </tr>\n",
       "    <tr>\n",
       "      <th>8</th>\n",
       "      <td>El mejor juego de la historia.\\nEspectacular en todos los hábitos\\nJugarl...</td>\n",
       "      <td>10</td>\n",
       "    </tr>\n",
       "    <tr>\n",
       "      <th>9</th>\n",
       "      <td>The best game, ilove the history and game play, **** i could play any time</td>\n",
       "      <td>10</td>\n",
       "    </tr>\n",
       "    <tr>\n",
       "      <th>10</th>\n",
       "      <td>Bingung cari cuan sambil rebahan ? FASTOTO solusinya.Link Daftar : ****</td>\n",
       "      <td>7</td>\n",
       "    </tr>\n",
       "    <tr>\n",
       "      <th>11</th>\n",
       "      <td>The OG of the modern 3D Zelda delivered an unparalleled experience of the...</td>\n",
       "      <td>10</td>\n",
       "    </tr>\n",
       "    <tr>\n",
       "      <th>12</th>\n",
       "      <td>By 2024 standards, I'd rate Ocarina of Time at a low 9. One of the most d...</td>\n",
       "      <td>9</td>\n",
       "    </tr>\n",
       "    <tr>\n",
       "      <th>13</th>\n",
       "      <td>Gus…………..:……………..:………………….:………………..:………….:……*********++++++++++++++++ wEE...</td>\n",
       "      <td>10</td>\n",
       "    </tr>\n",
       "    <tr>\n",
       "      <th>14</th>\n",
       "      <td>It's a really nice game with great action and **** puzzles are very well ...</td>\n",
       "      <td>9</td>\n",
       "    </tr>\n",
       "    <tr>\n",
       "      <th>15</th>\n",
       "      <td>The Legend of Zelda series, created by Nintendo, is one of the most iconi...</td>\n",
       "      <td>1</td>\n",
       "    </tr>\n",
       "    <tr>\n",
       "      <th>16</th>\n",
       "      <td>Great game, must play, just amazing, this is the  real classic, alreadypl...</td>\n",
       "      <td>10</td>\n",
       "    </tr>\n",
       "    <tr>\n",
       "      <th>17</th>\n",
       "      <td>This is without a doubt one of the best games of all time. It is absolute...</td>\n",
       "      <td>10</td>\n",
       "    </tr>\n",
       "    <tr>\n",
       "      <th>18</th>\n",
       "      <td>queria dizer que esse é um dos melhores jogos que ja joguei,simplismente ...</td>\n",
       "      <td>10</td>\n",
       "    </tr>\n",
       "    <tr>\n",
       "      <th>19</th>\n",
       "      <td>When opening the game, when the ocarina sounds. Perfect design has create...</td>\n",
       "      <td>10</td>\n",
       "    </tr>\n",
       "    <tr>\n",
       "      <th>20</th>\n",
       "      <td>the best game I've ever played in my entire life, the game that inspired ...</td>\n",
       "      <td>10</td>\n",
       "    </tr>\n",
       "    <tr>\n",
       "      <th>21</th>\n",
       "      <td>The best game ever.I played it again this year and it aged very well, des...</td>\n",
       "      <td>10</td>\n",
       "    </tr>\n",
       "    <tr>\n",
       "      <th>22</th>\n",
       "      <td>\\\"The Legend of Zelda: Ocarina of Time is a classic that every adventure ...</td>\n",
       "      <td>10</td>\n",
       "    </tr>\n",
       "    <tr>\n",
       "      <th>23</th>\n",
       "      <td>gfbyfytdtibbo goyg ouyguyogbo ouygfuyo goyufgytif khvhgj fyt yyg hguygu g...</td>\n",
       "      <td>10</td>\n",
       "    </tr>\n",
       "    <tr>\n",
       "      <th>24</th>\n",
       "      <td>Ha sido claramente superado por muchos juegos en el aspecto técnico debid...</td>\n",
       "      <td>10</td>\n",
       "    </tr>\n",
       "    <tr>\n",
       "      <th>25</th>\n",
       "      <td>Perfekt. Episch. Unaufhaltsam. Unschlagbar. Unwiderstehlich. Sensationell...</td>\n",
       "      <td>10</td>\n",
       "    </tr>\n",
       "    <tr>\n",
       "      <th>26</th>\n",
       "      <td>A 3D adventure accomplishment that’ll last for ages in the gaming industr...</td>\n",
       "      <td>10</td>\n",
       "    </tr>\n",
       "    <tr>\n",
       "      <th>27</th>\n",
       "      <td>good story and gameplay except the water temple otherwise it's fine,great...</td>\n",
       "      <td>10</td>\n",
       "    </tr>\n",
       "    <tr>\n",
       "      <th>28</th>\n",
       "      <td>um classico atemporal,trilha sonora fantastica personagens imersiveis e u...</td>\n",
       "      <td>10</td>\n",
       "    </tr>\n",
       "    <tr>\n",
       "      <th>29</th>\n",
       "      <td>Amazing game with an amazing storyline. Really good mechanics. I would gi...</td>\n",
       "      <td>10</td>\n",
       "    </tr>\n",
       "    <tr>\n",
       "      <th>30</th>\n",
       "      <td>Aún ser algo antiguo no pierde su magia ,pues aunque sus controles son al...</td>\n",
       "      <td>10</td>\n",
       "    </tr>\n",
       "    <tr>\n",
       "      <th>31</th>\n",
       "      <td>Um jogo que consegue se manter atual e bem feito até hoje(2024), o jogo q...</td>\n",
       "      <td>10</td>\n",
       "    </tr>\n",
       "    <tr>\n",
       "      <th>32</th>\n",
       "      <td>Amazing Game it gave so much for the Gamimg Industry it´s just one of the...</td>\n",
       "      <td>10</td>\n",
       "    </tr>\n",
       "    <tr>\n",
       "      <th>33</th>\n",
       "      <td>Um jogo que era extremamente limitado naépoca e envelheceu muito mal dife...</td>\n",
       "      <td>f</td>\n",
       "    </tr>\n",
       "    <tr>\n",
       "      <th>34</th>\n",
       "      <td>Mind blowing, I like adventure games, and this is one of them.\\nThe Legen...</td>\n",
       "      <td>9</td>\n",
       "    </tr>\n",
       "    <tr>\n",
       "      <th>35</th>\n",
       "      <td>This game is almost perfect everyone know it it’s critical acclaimed and ...</td>\n",
       "      <td>10</td>\n",
       "    </tr>\n",
       "    <tr>\n",
       "      <th>36</th>\n",
       "      <td>Overall, this game is one of the best games I've ever played. The memorie...</td>\n",
       "      <td>10</td>\n",
       "    </tr>\n",
       "    <tr>\n",
       "      <th>37</th>\n",
       "      <td>This game has justifiably the Word Legend in it! Outgoing from its Time o...</td>\n",
       "      <td>10</td>\n",
       "    </tr>\n",
       "    <tr>\n",
       "      <th>38</th>\n",
       "      <td>This is the greatest game ever it has a great story and great gameplay. I...</td>\n",
       "      <td>10</td>\n",
       "    </tr>\n",
       "    <tr>\n",
       "      <th>39</th>\n",
       "      <td>Wow! Best game ever! I could play this game with my Nintendo platform. I ...</td>\n",
       "      <td>10</td>\n",
       "    </tr>\n",
       "    <tr>\n",
       "      <th>40</th>\n",
       "      <td>This one of best open world i ever played, definetly the best n64 game of...</td>\n",
       "      <td>10</td>\n",
       "    </tr>\n",
       "    <tr>\n",
       "      <th>41</th>\n",
       "      <td>Hasta el momento considero este juego como el mejor de todos, no por segu...</td>\n",
       "      <td>10</td>\n",
       "    </tr>\n",
       "    <tr>\n",
       "      <th>42</th>\n",
       "      <td>Sencillamente legendario. Un juego que lo he jugado, rejugado y exprimido...</td>\n",
       "      <td>10</td>\n",
       "    </tr>\n",
       "    <tr>\n",
       "      <th>43</th>\n",
       "      <td>After all these years, these long and restless years. This game still cla...</td>\n",
       "      <td>10</td>\n",
       "    </tr>\n",
       "    <tr>\n",
       "      <th>44</th>\n",
       "      <td>Es hermoso una historia tan melancólica como para ponerse a llorar, empie...</td>\n",
       "      <td>10</td>\n",
       "    </tr>\n",
       "    <tr>\n",
       "      <th>45</th>\n",
       "      <td>I’ve been playing video games for a very long time and Zelda Ocarina of T...</td>\n",
       "      <td>10</td>\n",
       "    </tr>\n",
       "    <tr>\n",
       "      <th>46</th>\n",
       "      <td>A literal masterpiece. From the score to the boss battles. An instant cla...</td>\n",
       "      <td>10</td>\n",
       "    </tr>\n",
       "    <tr>\n",
       "      <th>47</th>\n",
       "      <td>A monumentally influential classic that truly transformed Zelda into what...</td>\n",
       "      <td>9</td>\n",
       "    </tr>\n",
       "    <tr>\n",
       "      <th>48</th>\n",
       "      <td>I remember playing this with my brother. One of the finest adventure game...</td>\n",
       "      <td>10</td>\n",
       "    </tr>\n",
       "    <tr>\n",
       "      <th>49</th>\n",
       "      <td>E la perfezione ancora oggi  per una console vecchia 30 e una bomba poi l...</td>\n",
       "      <td>10</td>\n",
       "    </tr>\n",
       "  </tbody>\n",
       "</table>\n",
       "</div>"
      ],
      "text/plain": [
       "                                                                          review  \\\n",
       "0   Un jeu exceptionnel.\\nTout d'abors, il a révoluitionné le mileu du Jv tou...   \n",
       "1   I am writing this review in 2024. It's been about 26 Years since Ocarina ...   \n",
       "2   Best game of all times? I`m not quite sure.\\nThe game certainly deserves ...   \n",
       "3   Le jeu a suffisamment d'arguments pour considérer qu'il s'agit, encore en...   \n",
       "4   o jogo é bom e é só isso msm, o jogo é bom e é só isso msm, o jogo é bom ...   \n",
       "5   iyi bi oyun ama remastered akarmı ? akar çünkü tarihin en iyisi bu oyun n...   \n",
       "6   legendery a childhood stuffed in a cart! i got kicked out off class becau...   \n",
       "7   One of the (if not THE) best games ever made. Perfection in it´s maximum ...   \n",
       "8   El mejor juego de la historia.\\nEspectacular en todos los hábitos\\nJugarl...   \n",
       "9     The best game, ilove the history and game play, **** i could play any time   \n",
       "10       Bingung cari cuan sambil rebahan ? FASTOTO solusinya.Link Daftar : ****   \n",
       "11  The OG of the modern 3D Zelda delivered an unparalleled experience of the...   \n",
       "12  By 2024 standards, I'd rate Ocarina of Time at a low 9. One of the most d...   \n",
       "13  Gus…………..:……………..:………………….:………………..:………….:……*********++++++++++++++++ wEE...   \n",
       "14  It's a really nice game with great action and **** puzzles are very well ...   \n",
       "15  The Legend of Zelda series, created by Nintendo, is one of the most iconi...   \n",
       "16  Great game, must play, just amazing, this is the  real classic, alreadypl...   \n",
       "17  This is without a doubt one of the best games of all time. It is absolute...   \n",
       "18  queria dizer que esse é um dos melhores jogos que ja joguei,simplismente ...   \n",
       "19  When opening the game, when the ocarina sounds. Perfect design has create...   \n",
       "20  the best game I've ever played in my entire life, the game that inspired ...   \n",
       "21  The best game ever.I played it again this year and it aged very well, des...   \n",
       "22  \\\"The Legend of Zelda: Ocarina of Time is a classic that every adventure ...   \n",
       "23  gfbyfytdtibbo goyg ouyguyogbo ouygfuyo goyufgytif khvhgj fyt yyg hguygu g...   \n",
       "24  Ha sido claramente superado por muchos juegos en el aspecto técnico debid...   \n",
       "25  Perfekt. Episch. Unaufhaltsam. Unschlagbar. Unwiderstehlich. Sensationell...   \n",
       "26  A 3D adventure accomplishment that’ll last for ages in the gaming industr...   \n",
       "27  good story and gameplay except the water temple otherwise it's fine,great...   \n",
       "28  um classico atemporal,trilha sonora fantastica personagens imersiveis e u...   \n",
       "29  Amazing game with an amazing storyline. Really good mechanics. I would gi...   \n",
       "30  Aún ser algo antiguo no pierde su magia ,pues aunque sus controles son al...   \n",
       "31  Um jogo que consegue se manter atual e bem feito até hoje(2024), o jogo q...   \n",
       "32  Amazing Game it gave so much for the Gamimg Industry it´s just one of the...   \n",
       "33  Um jogo que era extremamente limitado naépoca e envelheceu muito mal dife...   \n",
       "34  Mind blowing, I like adventure games, and this is one of them.\\nThe Legen...   \n",
       "35  This game is almost perfect everyone know it it’s critical acclaimed and ...   \n",
       "36  Overall, this game is one of the best games I've ever played. The memorie...   \n",
       "37  This game has justifiably the Word Legend in it! Outgoing from its Time o...   \n",
       "38  This is the greatest game ever it has a great story and great gameplay. I...   \n",
       "39  Wow! Best game ever! I could play this game with my Nintendo platform. I ...   \n",
       "40  This one of best open world i ever played, definetly the best n64 game of...   \n",
       "41  Hasta el momento considero este juego como el mejor de todos, no por segu...   \n",
       "42  Sencillamente legendario. Un juego que lo he jugado, rejugado y exprimido...   \n",
       "43  After all these years, these long and restless years. This game still cla...   \n",
       "44  Es hermoso una historia tan melancólica como para ponerse a llorar, empie...   \n",
       "45  I’ve been playing video games for a very long time and Zelda Ocarina of T...   \n",
       "46  A literal masterpiece. From the score to the boss battles. An instant cla...   \n",
       "47  A monumentally influential classic that truly transformed Zelda into what...   \n",
       "48  I remember playing this with my brother. One of the finest adventure game...   \n",
       "49  E la perfezione ancora oggi  per una console vecchia 30 e una bomba poi l...   \n",
       "\n",
       "   score  \n",
       "0     10  \n",
       "1     10  \n",
       "2      8  \n",
       "3     10  \n",
       "4     10  \n",
       "5     10  \n",
       "6     10  \n",
       "7     10  \n",
       "8     10  \n",
       "9     10  \n",
       "10     7  \n",
       "11    10  \n",
       "12     9  \n",
       "13    10  \n",
       "14     9  \n",
       "15     1  \n",
       "16    10  \n",
       "17    10  \n",
       "18    10  \n",
       "19    10  \n",
       "20    10  \n",
       "21    10  \n",
       "22    10  \n",
       "23    10  \n",
       "24    10  \n",
       "25    10  \n",
       "26    10  \n",
       "27    10  \n",
       "28    10  \n",
       "29    10  \n",
       "30    10  \n",
       "31    10  \n",
       "32    10  \n",
       "33     f  \n",
       "34     9  \n",
       "35    10  \n",
       "36    10  \n",
       "37    10  \n",
       "38    10  \n",
       "39    10  \n",
       "40    10  \n",
       "41    10  \n",
       "42    10  \n",
       "43    10  \n",
       "44    10  \n",
       "45    10  \n",
       "46    10  \n",
       "47     9  \n",
       "48    10  \n",
       "49    10  "
      ]
     },
     "execution_count": 781,
     "metadata": {},
     "output_type": "execute_result"
    }
   ],
   "source": [
    "pd.DataFrame(review_dict)"
   ]
  },
  {
   "cell_type": "code",
   "execution_count": null,
   "id": "bccbb44d-19cd-486a-a275-b0de2aeaf94e",
   "metadata": {
    "tags": []
   },
   "outputs": [],
   "source": []
  },
  {
   "cell_type": "markdown",
   "id": "a6d1d70d-9308-46d7-9e19-bd114668a167",
   "metadata": {
    "tags": []
   },
   "source": [
    "### Download user reviews with `selenium`"
   ]
  },
  {
   "cell_type": "code",
   "execution_count": 832,
   "id": "4d30b731-c56c-4f60-b2e6-5a80c873db3c",
   "metadata": {
    "tags": []
   },
   "outputs": [
    {
     "name": "stdout",
     "output_type": "stream",
     "text": [
      "https://www.metacritic.com/game/the-legend-of-zelda-ocarina-of-time/user-reviews/\n"
     ]
    }
   ],
   "source": [
    "print(url)"
   ]
  },
  {
   "cell_type": "code",
   "execution_count": 783,
   "id": "6e1527d4-20fb-4af3-8ea6-6f39fa97391f",
   "metadata": {
    "tags": []
   },
   "outputs": [],
   "source": [
    "from selenium import webdriver\n",
    "from selenium.webdriver.firefox.service import Service\n",
    "from selenium.webdriver.firefox.options import Options\n",
    "import time \n",
    "\n",
    "options = Options()\n",
    "service = Service('./geckodriver')\n",
    "options.add_argument(\"--headless\")\n",
    "\n",
    "\n",
    "\n",
    "driver = webdriver.Firefox(service=service, options=options)\n",
    "url = \"https://www.metacritic.com\"+all_games['url'][0]+\"user-reviews/\"\n",
    "\n",
    "driver.get(url) \n",
    "\n",
    "\n",
    "last_height = driver.execute_script('return document.body.scrollHeight') \n",
    " \n",
    "# set max count \n",
    "itemTargetCount = 999 \n",
    " \n",
    "# scroll to bottom of webpage \n",
    "while itemTargetCount > len(reviews): \n",
    "    driver.execute_script('window.scrollTo(0, document.body.scrollHeight);') \n",
    "\n",
    "   \n",
    "    time.sleep(3) \n",
    "\n",
    "    new_height = driver.execute_script('return document.body.scrollHeight') \n",
    "\n",
    "    if new_height == last_height: \n",
    "        break \n",
    "\n",
    "    last_height = new_height \n",
    "\n",
    "    # select elements by XPath \n",
    "    elements1 = driver.find_elements(By.XPATH, \"/html/body/div[1]/div/div/div[2]/div[1]/div[1]/section/div[6]/div[*]/div/div[1]/div[2]/div/span\") \n",
    "    reviews = [element.text for element in elements1] \n",
    "    elements2 = driver.find_elements(By.XPATH, \"/html/body/div[1]/div/div/div[2]/div[1]/div[1]/section/div[6]/div[*]/div/div[1]/div[1]/div[1]/a/div/div/span\") \n",
    "    scores = [element.text for element in elements2] \n"
   ]
  },
  {
   "cell_type": "code",
   "execution_count": 820,
   "id": "9452f3bb-8d44-4465-b843-d2b590948c82",
   "metadata": {
    "tags": []
   },
   "outputs": [],
   "source": [
    "user_reviews = pd.DataFrame({'review':reviews, 'score':scores})"
   ]
  },
  {
   "cell_type": "code",
   "execution_count": 821,
   "id": "80a4b0fc-3649-408f-9bff-59dc8266a85a",
   "metadata": {
    "tags": []
   },
   "outputs": [
    {
     "data": {
      "text/plain": [
       "review    object\n",
       "score     object\n",
       "dtype: object"
      ]
     },
     "execution_count": 821,
     "metadata": {},
     "output_type": "execute_result"
    }
   ],
   "source": [
    "user_reviews.dtypes"
   ]
  },
  {
   "cell_type": "code",
   "execution_count": 822,
   "id": "4814a91a-5325-4a39-8eff-2f94405ce7b1",
   "metadata": {
    "tags": []
   },
   "outputs": [],
   "source": [
    "user_reviews['score'] = user_reviews['score'].astype('float64')"
   ]
  },
  {
   "cell_type": "code",
   "execution_count": 823,
   "id": "b28c9267-101c-4485-ba7a-b97b6b828afe",
   "metadata": {
    "tags": []
   },
   "outputs": [
    {
     "data": {
      "text/plain": [
       "review     object\n",
       "score     float64\n",
       "dtype: object"
      ]
     },
     "execution_count": 823,
     "metadata": {},
     "output_type": "execute_result"
    }
   ],
   "source": [
    "user_reviews.dtypes"
   ]
  },
  {
   "cell_type": "code",
   "execution_count": 831,
   "id": "8ff171d2-4496-471c-85f0-9faa63a72acc",
   "metadata": {
    "tags": []
   },
   "outputs": [
    {
     "data": {
      "text/plain": [
       "9.148"
      ]
     },
     "execution_count": 831,
     "metadata": {},
     "output_type": "execute_result"
    }
   ],
   "source": [
    "user_reviews['score'].mean()"
   ]
  },
  {
   "cell_type": "code",
   "execution_count": 824,
   "id": "9dfe63be-f3bd-4e44-b778-ef65048794b9",
   "metadata": {
    "tags": []
   },
   "outputs": [
    {
     "data": {
      "text/html": [
       "<div>\n",
       "<style scoped>\n",
       "    .dataframe tbody tr th:only-of-type {\n",
       "        vertical-align: middle;\n",
       "    }\n",
       "\n",
       "    .dataframe tbody tr th {\n",
       "        vertical-align: top;\n",
       "    }\n",
       "\n",
       "    .dataframe thead th {\n",
       "        text-align: right;\n",
       "    }\n",
       "</style>\n",
       "<table border=\"1\" class=\"dataframe\">\n",
       "  <thead>\n",
       "    <tr style=\"text-align: right;\">\n",
       "      <th></th>\n",
       "      <th>review</th>\n",
       "      <th>score</th>\n",
       "    </tr>\n",
       "  </thead>\n",
       "  <tbody>\n",
       "    <tr>\n",
       "      <th>0</th>\n",
       "      <td>Un jeu exceptionnel. Tout d'abors, il a révoluitionné le mileu du Jv tout...</td>\n",
       "      <td>10.0</td>\n",
       "    </tr>\n",
       "    <tr>\n",
       "      <th>1</th>\n",
       "      <td>I am writing this review in 2024. It's been about 26 Years since Ocarina ...</td>\n",
       "      <td>10.0</td>\n",
       "    </tr>\n",
       "    <tr>\n",
       "      <th>2</th>\n",
       "      <td>Best game of all times? I`m not quite sure. The game certainly deserves a...</td>\n",
       "      <td>8.0</td>\n",
       "    </tr>\n",
       "    <tr>\n",
       "      <th>3</th>\n",
       "      <td>Le jeu a suffisamment d'arguments pour considérer qu'il s'agit, encore en...</td>\n",
       "      <td>10.0</td>\n",
       "    </tr>\n",
       "    <tr>\n",
       "      <th>4</th>\n",
       "      <td>o jogo é bom e é só isso msm, o jogo é bom e é só isso msm, o jogo é bom ...</td>\n",
       "      <td>10.0</td>\n",
       "    </tr>\n",
       "    <tr>\n",
       "      <th>...</th>\n",
       "      <td>...</td>\n",
       "      <td>...</td>\n",
       "    </tr>\n",
       "    <tr>\n",
       "      <th>995</th>\n",
       "      <td>I was 16 when this game was out. Spent many hours playing and loved every...</td>\n",
       "      <td>10.0</td>\n",
       "    </tr>\n",
       "    <tr>\n",
       "      <th>996</th>\n",
       "      <td>It doesn't have the best world or graphics, but till today if i grab the ...</td>\n",
       "      <td>10.0</td>\n",
       "    </tr>\n",
       "    <tr>\n",
       "      <th>997</th>\n",
       "      <td>Es una historia maestra en todo ambito, Artistico, y tecnico. Sin duda al...</td>\n",
       "      <td>10.0</td>\n",
       "    </tr>\n",
       "    <tr>\n",
       "      <th>998</th>\n",
       "      <td>Played this game way back in 98, and it changed my life. I have been play...</td>\n",
       "      <td>10.0</td>\n",
       "    </tr>\n",
       "    <tr>\n",
       "      <th>999</th>\n",
       "      <td>Simplemente excelente, y no solo porque marcó mi infancia, también marcó ...</td>\n",
       "      <td>10.0</td>\n",
       "    </tr>\n",
       "  </tbody>\n",
       "</table>\n",
       "<p>1000 rows × 2 columns</p>\n",
       "</div>"
      ],
      "text/plain": [
       "                                                                           review  \\\n",
       "0    Un jeu exceptionnel. Tout d'abors, il a révoluitionné le mileu du Jv tout...   \n",
       "1    I am writing this review in 2024. It's been about 26 Years since Ocarina ...   \n",
       "2    Best game of all times? I`m not quite sure. The game certainly deserves a...   \n",
       "3    Le jeu a suffisamment d'arguments pour considérer qu'il s'agit, encore en...   \n",
       "4    o jogo é bom e é só isso msm, o jogo é bom e é só isso msm, o jogo é bom ...   \n",
       "..                                                                            ...   \n",
       "995  I was 16 when this game was out. Spent many hours playing and loved every...   \n",
       "996  It doesn't have the best world or graphics, but till today if i grab the ...   \n",
       "997  Es una historia maestra en todo ambito, Artistico, y tecnico. Sin duda al...   \n",
       "998  Played this game way back in 98, and it changed my life. I have been play...   \n",
       "999  Simplemente excelente, y no solo porque marcó mi infancia, también marcó ...   \n",
       "\n",
       "     score  \n",
       "0     10.0  \n",
       "1     10.0  \n",
       "2      8.0  \n",
       "3     10.0  \n",
       "4     10.0  \n",
       "..     ...  \n",
       "995   10.0  \n",
       "996   10.0  \n",
       "997   10.0  \n",
       "998   10.0  \n",
       "999   10.0  \n",
       "\n",
       "[1000 rows x 2 columns]"
      ]
     },
     "execution_count": 824,
     "metadata": {},
     "output_type": "execute_result"
    }
   ],
   "source": [
    "pd.set_option('display.max_colwidth', 77)\n",
    "user_reviews"
   ]
  },
  {
   "cell_type": "code",
   "execution_count": 825,
   "id": "5414df8c-c07b-4f65-9cf2-e5bd7cffeabc",
   "metadata": {
    "tags": []
   },
   "outputs": [
    {
     "data": {
      "text/html": [
       "<div>\n",
       "<style scoped>\n",
       "    .dataframe tbody tr th:only-of-type {\n",
       "        vertical-align: middle;\n",
       "    }\n",
       "\n",
       "    .dataframe tbody tr th {\n",
       "        vertical-align: top;\n",
       "    }\n",
       "\n",
       "    .dataframe thead th {\n",
       "        text-align: right;\n",
       "    }\n",
       "</style>\n",
       "<table border=\"1\" class=\"dataframe\">\n",
       "  <thead>\n",
       "    <tr style=\"text-align: right;\">\n",
       "      <th></th>\n",
       "      <th>review</th>\n",
       "      <th>score</th>\n",
       "    </tr>\n",
       "  </thead>\n",
       "  <tbody>\n",
       "    <tr>\n",
       "      <th>0</th>\n",
       "      <td>Un jeu exceptionnel. Tout d'abors, il a révoluitionné le mileu du Jv tout...</td>\n",
       "      <td>10.0</td>\n",
       "    </tr>\n",
       "    <tr>\n",
       "      <th>1</th>\n",
       "      <td>I am writing this review in 2024. It's been about 26 Years since Ocarina ...</td>\n",
       "      <td>10.0</td>\n",
       "    </tr>\n",
       "    <tr>\n",
       "      <th>2</th>\n",
       "      <td>Best game of all times? I`m not quite sure. The game certainly deserves a...</td>\n",
       "      <td>8.0</td>\n",
       "    </tr>\n",
       "    <tr>\n",
       "      <th>3</th>\n",
       "      <td>Le jeu a suffisamment d'arguments pour considérer qu'il s'agit, encore en...</td>\n",
       "      <td>10.0</td>\n",
       "    </tr>\n",
       "    <tr>\n",
       "      <th>4</th>\n",
       "      <td>o jogo é bom e é só isso msm, o jogo é bom e é só isso msm, o jogo é bom ...</td>\n",
       "      <td>10.0</td>\n",
       "    </tr>\n",
       "    <tr>\n",
       "      <th>...</th>\n",
       "      <td>...</td>\n",
       "      <td>...</td>\n",
       "    </tr>\n",
       "    <tr>\n",
       "      <th>995</th>\n",
       "      <td>I was 16 when this game was out. Spent many hours playing and loved every...</td>\n",
       "      <td>10.0</td>\n",
       "    </tr>\n",
       "    <tr>\n",
       "      <th>996</th>\n",
       "      <td>It doesn't have the best world or graphics, but till today if i grab the ...</td>\n",
       "      <td>10.0</td>\n",
       "    </tr>\n",
       "    <tr>\n",
       "      <th>997</th>\n",
       "      <td>Es una historia maestra en todo ambito, Artistico, y tecnico. Sin duda al...</td>\n",
       "      <td>10.0</td>\n",
       "    </tr>\n",
       "    <tr>\n",
       "      <th>998</th>\n",
       "      <td>Played this game way back in 98, and it changed my life. I have been play...</td>\n",
       "      <td>10.0</td>\n",
       "    </tr>\n",
       "    <tr>\n",
       "      <th>999</th>\n",
       "      <td>Simplemente excelente, y no solo porque marcó mi infancia, también marcó ...</td>\n",
       "      <td>10.0</td>\n",
       "    </tr>\n",
       "  </tbody>\n",
       "</table>\n",
       "<p>927 rows × 2 columns</p>\n",
       "</div>"
      ],
      "text/plain": [
       "                                                                           review  \\\n",
       "0    Un jeu exceptionnel. Tout d'abors, il a révoluitionné le mileu du Jv tout...   \n",
       "1    I am writing this review in 2024. It's been about 26 Years since Ocarina ...   \n",
       "2    Best game of all times? I`m not quite sure. The game certainly deserves a...   \n",
       "3    Le jeu a suffisamment d'arguments pour considérer qu'il s'agit, encore en...   \n",
       "4    o jogo é bom e é só isso msm, o jogo é bom e é só isso msm, o jogo é bom ...   \n",
       "..                                                                            ...   \n",
       "995  I was 16 when this game was out. Spent many hours playing and loved every...   \n",
       "996  It doesn't have the best world or graphics, but till today if i grab the ...   \n",
       "997  Es una historia maestra en todo ambito, Artistico, y tecnico. Sin duda al...   \n",
       "998  Played this game way back in 98, and it changed my life. I have been play...   \n",
       "999  Simplemente excelente, y no solo porque marcó mi infancia, también marcó ...   \n",
       "\n",
       "     score  \n",
       "0     10.0  \n",
       "1     10.0  \n",
       "2      8.0  \n",
       "3     10.0  \n",
       "4     10.0  \n",
       "..     ...  \n",
       "995   10.0  \n",
       "996   10.0  \n",
       "997   10.0  \n",
       "998   10.0  \n",
       "999   10.0  \n",
       "\n",
       "[927 rows x 2 columns]"
      ]
     },
     "execution_count": 825,
     "metadata": {},
     "output_type": "execute_result"
    }
   ],
   "source": [
    "user_reviews[~user_reviews['review'].duplicated(keep='first')]"
   ]
  },
  {
   "cell_type": "code",
   "execution_count": 826,
   "id": "2a9aeda3-dd40-4cdf-8a77-587e0a5f2b14",
   "metadata": {
    "tags": []
   },
   "outputs": [
    {
     "data": {
      "text/html": [
       "<div>\n",
       "<style scoped>\n",
       "    .dataframe tbody tr th:only-of-type {\n",
       "        vertical-align: middle;\n",
       "    }\n",
       "\n",
       "    .dataframe tbody tr th {\n",
       "        vertical-align: top;\n",
       "    }\n",
       "\n",
       "    .dataframe thead th {\n",
       "        text-align: right;\n",
       "    }\n",
       "</style>\n",
       "<table border=\"1\" class=\"dataframe\">\n",
       "  <thead>\n",
       "    <tr style=\"text-align: right;\">\n",
       "      <th></th>\n",
       "      <th>review</th>\n",
       "      <th>score</th>\n",
       "    </tr>\n",
       "  </thead>\n",
       "  <tbody>\n",
       "    <tr>\n",
       "      <th>0</th>\n",
       "      <td>Un jeu exceptionnel. Tout d'abors, il a révoluitionné le mileu du Jv tout...</td>\n",
       "      <td>10.0</td>\n",
       "    </tr>\n",
       "    <tr>\n",
       "      <th>1</th>\n",
       "      <td>I am writing this review in 2024. It's been about 26 Years since Ocarina ...</td>\n",
       "      <td>10.0</td>\n",
       "    </tr>\n",
       "    <tr>\n",
       "      <th>2</th>\n",
       "      <td>Best game of all times? I`m not quite sure. The game certainly deserves a...</td>\n",
       "      <td>8.0</td>\n",
       "    </tr>\n",
       "    <tr>\n",
       "      <th>3</th>\n",
       "      <td>Le jeu a suffisamment d'arguments pour considérer qu'il s'agit, encore en...</td>\n",
       "      <td>10.0</td>\n",
       "    </tr>\n",
       "    <tr>\n",
       "      <th>4</th>\n",
       "      <td>o jogo é bom e é só isso msm, o jogo é bom e é só isso msm, o jogo é bom ...</td>\n",
       "      <td>10.0</td>\n",
       "    </tr>\n",
       "    <tr>\n",
       "      <th>...</th>\n",
       "      <td>...</td>\n",
       "      <td>...</td>\n",
       "    </tr>\n",
       "    <tr>\n",
       "      <th>995</th>\n",
       "      <td>I was 16 when this game was out. Spent many hours playing and loved every...</td>\n",
       "      <td>10.0</td>\n",
       "    </tr>\n",
       "    <tr>\n",
       "      <th>996</th>\n",
       "      <td>It doesn't have the best world or graphics, but till today if i grab the ...</td>\n",
       "      <td>10.0</td>\n",
       "    </tr>\n",
       "    <tr>\n",
       "      <th>997</th>\n",
       "      <td>Es una historia maestra en todo ambito, Artistico, y tecnico. Sin duda al...</td>\n",
       "      <td>10.0</td>\n",
       "    </tr>\n",
       "    <tr>\n",
       "      <th>998</th>\n",
       "      <td>Played this game way back in 98, and it changed my life. I have been play...</td>\n",
       "      <td>10.0</td>\n",
       "    </tr>\n",
       "    <tr>\n",
       "      <th>999</th>\n",
       "      <td>Simplemente excelente, y no solo porque marcó mi infancia, también marcó ...</td>\n",
       "      <td>10.0</td>\n",
       "    </tr>\n",
       "  </tbody>\n",
       "</table>\n",
       "<p>931 rows × 2 columns</p>\n",
       "</div>"
      ],
      "text/plain": [
       "                                                                           review  \\\n",
       "0    Un jeu exceptionnel. Tout d'abors, il a révoluitionné le mileu du Jv tout...   \n",
       "1    I am writing this review in 2024. It's been about 26 Years since Ocarina ...   \n",
       "2    Best game of all times? I`m not quite sure. The game certainly deserves a...   \n",
       "3    Le jeu a suffisamment d'arguments pour considérer qu'il s'agit, encore en...   \n",
       "4    o jogo é bom e é só isso msm, o jogo é bom e é só isso msm, o jogo é bom ...   \n",
       "..                                                                            ...   \n",
       "995  I was 16 when this game was out. Spent many hours playing and loved every...   \n",
       "996  It doesn't have the best world or graphics, but till today if i grab the ...   \n",
       "997  Es una historia maestra en todo ambito, Artistico, y tecnico. Sin duda al...   \n",
       "998  Played this game way back in 98, and it changed my life. I have been play...   \n",
       "999  Simplemente excelente, y no solo porque marcó mi infancia, también marcó ...   \n",
       "\n",
       "     score  \n",
       "0     10.0  \n",
       "1     10.0  \n",
       "2      8.0  \n",
       "3     10.0  \n",
       "4     10.0  \n",
       "..     ...  \n",
       "995   10.0  \n",
       "996   10.0  \n",
       "997   10.0  \n",
       "998   10.0  \n",
       "999   10.0  \n",
       "\n",
       "[931 rows x 2 columns]"
      ]
     },
     "execution_count": 826,
     "metadata": {},
     "output_type": "execute_result"
    }
   ],
   "source": [
    "user_reviews.drop( user_reviews.query(\"review=='[SPOILER ALERT: This review contains spoilers.]'\").index )"
   ]
  },
  {
   "cell_type": "code",
   "execution_count": 827,
   "id": "083759b1-015d-49d7-9492-a7a539d3832e",
   "metadata": {
    "tags": []
   },
   "outputs": [
    {
     "data": {
      "text/plain": [
       "'Best game of all times? I`m not quite sure. The game certainly deserves all these rave reviews, but after more than 25 years, the game doesn\\'t stand up to many other projects. Zelda: Ocarina of Time is commonly referred to as the \"best game\" to make you count as a \"true gamer\", but that\\'s just ridiculous.'"
      ]
     },
     "execution_count": 827,
     "metadata": {},
     "output_type": "execute_result"
    }
   ],
   "source": [
    "user_reviews['review'][2]"
   ]
  },
  {
   "cell_type": "code",
   "execution_count": null,
   "id": "6a0fdbb5-e331-48f3-ac3e-ced3232d77cc",
   "metadata": {},
   "outputs": [],
   "source": []
  },
  {
   "cell_type": "code",
   "execution_count": null,
   "id": "cd1a08f7-4505-4bfa-bba6-2e9ca167c5f2",
   "metadata": {
    "tags": []
   },
   "outputs": [],
   "source": []
  },
  {
   "cell_type": "code",
   "execution_count": null,
   "id": "895146ee-0720-4aa7-a718-d98304c4ddfb",
   "metadata": {
    "tags": []
   },
   "outputs": [],
   "source": []
  },
  {
   "cell_type": "code",
   "execution_count": null,
   "id": "3ccc600c-70bf-4e17-9d4c-7a081c6f2c81",
   "metadata": {},
   "outputs": [],
   "source": []
  }
 ],
 "metadata": {
  "kernelspec": {
   "display_name": "Python 3 (ipykernel)",
   "language": "python",
   "name": "python3"
  },
  "language_info": {
   "codemirror_mode": {
    "name": "ipython",
    "version": 3
   },
   "file_extension": ".py",
   "mimetype": "text/x-python",
   "name": "python",
   "nbconvert_exporter": "python",
   "pygments_lexer": "ipython3",
   "version": "3.11.3"
  }
 },
 "nbformat": 4,
 "nbformat_minor": 5
}
