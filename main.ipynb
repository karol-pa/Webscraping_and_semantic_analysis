{
 "cells": [
  {
   "cell_type": "code",
   "execution_count": 178,
   "id": "4da9c8da-3dce-4a24-b59a-356bc9dafbf3",
   "metadata": {
    "tags": []
   },
   "outputs": [],
   "source": [
    "import numpy as np\n",
    "import pandas as pd\n",
    "import requests\n",
    "from bs4 import BeautifulSoup\n",
    "\n",
    "\n",
    "\n",
    "#https://scrapeops.io/python-web-scraping-playbook/python-beautifulsoup-findall/"
   ]
  },
  {
   "cell_type": "code",
   "execution_count": 7,
   "id": "fad0b035-1471-4c6c-957e-e67590bce2eb",
   "metadata": {
    "tags": []
   },
   "outputs": [],
   "source": [
    "url = \"https://www.metacritic.com/browse/game/?page=10\"\n",
    "userAgent = {'User-agent': 'Mozilla/5.0'}\n",
    "response = requests.get(url, headers=userAgent)\n",
    "soup = BeautifulSoup(response.text, 'html.parser')"
   ]
  },
  {
   "cell_type": "code",
   "execution_count": 302,
   "id": "7c0ac0b2-f56b-4f8f-b276-cecc56f4cd4e",
   "metadata": {
    "tags": []
   },
   "outputs": [],
   "source": [
    "data_dict = {'place':[] , 'name':[], 'url':[]}#, 'platform':[], 'release_date':[], 'metascore':[], 'user_score':[]}"
   ]
  },
  {
   "cell_type": "code",
   "execution_count": 303,
   "id": "5eea49e6-a3ba-4dce-9bbe-7328e192e854",
   "metadata": {
    "tags": []
   },
   "outputs": [],
   "source": [
    "titles = soup.find_all('div', class_='c-finderProductCard_title')\n",
    "urls = soup.find_all('a',class_=\"c-finderProductCard_container g-color-gray80 u-grid\", href=True)\n",
    "                                 \n",
    "                                 \n",
    "                             "
   ]
  },
  {
   "cell_type": "code",
   "execution_count": null,
   "id": "cea96ee4-94c0-4e8a-8589-90ce037e0db9",
   "metadata": {
    "tags": []
   },
   "outputs": [],
   "source": []
  },
  {
   "cell_type": "code",
   "execution_count": null,
   "id": "16e6c856-e16b-46e0-8402-27df45a0067a",
   "metadata": {
    "tags": []
   },
   "outputs": [],
   "source": []
  },
  {
   "cell_type": "code",
   "execution_count": 304,
   "id": "fcafa3b3-fb13-4f15-93e3-a48e49cdf3ac",
   "metadata": {
    "tags": []
   },
   "outputs": [],
   "source": [
    "\n",
    "\n",
    "for game in range(0,len(titles)):\n",
    "    data_dict['place'].append(int(float(titles[game].find_all('h3')[0].find('span').text)))\n",
    "    data_dict['name'].append(titles[game]['data-title'])\n",
    "    data_dict['url'].append(urls[game]['href'])"
   ]
  },
  {
   "cell_type": "code",
   "execution_count": 305,
   "id": "c56d8da3-988e-448d-9b21-58f507817621",
   "metadata": {
    "tags": []
   },
   "outputs": [
    {
     "data": {
      "text/html": [
       "<div>\n",
       "<style scoped>\n",
       "    .dataframe tbody tr th:only-of-type {\n",
       "        vertical-align: middle;\n",
       "    }\n",
       "\n",
       "    .dataframe tbody tr th {\n",
       "        vertical-align: top;\n",
       "    }\n",
       "\n",
       "    .dataframe thead th {\n",
       "        text-align: right;\n",
       "    }\n",
       "</style>\n",
       "<table border=\"1\" class=\"dataframe\">\n",
       "  <thead>\n",
       "    <tr style=\"text-align: right;\">\n",
       "      <th></th>\n",
       "      <th>place</th>\n",
       "      <th>name</th>\n",
       "      <th>url</th>\n",
       "    </tr>\n",
       "  </thead>\n",
       "  <tbody>\n",
       "    <tr>\n",
       "      <th>0</th>\n",
       "      <td>217</td>\n",
       "      <td>Forza Horizon 3</td>\n",
       "      <td>/game/forza-horizon-3/</td>\n",
       "    </tr>\n",
       "    <tr>\n",
       "      <th>1</th>\n",
       "      <td>218</td>\n",
       "      <td>The Legend of Zelda: Ocarina of Time / Master ...</td>\n",
       "      <td>/game/the-legend-of-zelda-ocarina-of-time-mast...</td>\n",
       "    </tr>\n",
       "    <tr>\n",
       "      <th>2</th>\n",
       "      <td>219</td>\n",
       "      <td>NCAA Football 2003</td>\n",
       "      <td>/game/ncaa-football-2003/</td>\n",
       "    </tr>\n",
       "    <tr>\n",
       "      <th>3</th>\n",
       "      <td>220</td>\n",
       "      <td>Kentucky Route Zero - Act III</td>\n",
       "      <td>/game/kentucky-route-zero-act-iii/</td>\n",
       "    </tr>\n",
       "    <tr>\n",
       "      <th>4</th>\n",
       "      <td>221</td>\n",
       "      <td>Crysis</td>\n",
       "      <td>/game/crysis/</td>\n",
       "    </tr>\n",
       "    <tr>\n",
       "      <th>5</th>\n",
       "      <td>222</td>\n",
       "      <td>Ninja Gaiden (2004)</td>\n",
       "      <td>/game/ninja-gaiden-2004/</td>\n",
       "    </tr>\n",
       "    <tr>\n",
       "      <th>6</th>\n",
       "      <td>223</td>\n",
       "      <td>God of War: Chains of Olympus</td>\n",
       "      <td>/game/god-of-war-chains-of-olympus/</td>\n",
       "    </tr>\n",
       "    <tr>\n",
       "      <th>7</th>\n",
       "      <td>224</td>\n",
       "      <td>DOA2: Hardcore</td>\n",
       "      <td>/game/doa2-hardcore/</td>\n",
       "    </tr>\n",
       "    <tr>\n",
       "      <th>8</th>\n",
       "      <td>225</td>\n",
       "      <td>World of Warcraft: The Burning Crusade</td>\n",
       "      <td>/game/world-of-warcraft-the-burning-crusade/</td>\n",
       "    </tr>\n",
       "    <tr>\n",
       "      <th>9</th>\n",
       "      <td>226</td>\n",
       "      <td>MLB 10: The Show</td>\n",
       "      <td>/game/mlb-10-the-show/</td>\n",
       "    </tr>\n",
       "    <tr>\n",
       "      <th>10</th>\n",
       "      <td>227</td>\n",
       "      <td>Shadow of the Colossus</td>\n",
       "      <td>/game/shadow-of-the-colossus/</td>\n",
       "    </tr>\n",
       "    <tr>\n",
       "      <th>11</th>\n",
       "      <td>228</td>\n",
       "      <td>Yoshi's Island: Super Mario Advance 3</td>\n",
       "      <td>/game/yoshis-island-super-mario-advance-3/</td>\n",
       "    </tr>\n",
       "    <tr>\n",
       "      <th>12</th>\n",
       "      <td>229</td>\n",
       "      <td>Star Wars Jedi Knight: Dark Forces II</td>\n",
       "      <td>/game/star-wars-jedi-knight-dark-forces-ii/</td>\n",
       "    </tr>\n",
       "    <tr>\n",
       "      <th>13</th>\n",
       "      <td>230</td>\n",
       "      <td>The Longest Journey</td>\n",
       "      <td>/game/the-longest-journey/</td>\n",
       "    </tr>\n",
       "    <tr>\n",
       "      <th>14</th>\n",
       "      <td>231</td>\n",
       "      <td>ESPN NFL Football</td>\n",
       "      <td>/game/espn-nfl-football/</td>\n",
       "    </tr>\n",
       "    <tr>\n",
       "      <th>15</th>\n",
       "      <td>232</td>\n",
       "      <td>Tony Hawk's Pro Skater 2</td>\n",
       "      <td>/game/tony-hawks-pro-skater-2/</td>\n",
       "    </tr>\n",
       "    <tr>\n",
       "      <th>16</th>\n",
       "      <td>233</td>\n",
       "      <td>Halo: Reach</td>\n",
       "      <td>/game/halo-reach/</td>\n",
       "    </tr>\n",
       "    <tr>\n",
       "      <th>17</th>\n",
       "      <td>234</td>\n",
       "      <td>Galactic Civilizations II: Dark Avatar</td>\n",
       "      <td>/game/galactic-civilizations-ii-dark-avatar/</td>\n",
       "    </tr>\n",
       "    <tr>\n",
       "      <th>18</th>\n",
       "      <td>235</td>\n",
       "      <td>Mass Effect</td>\n",
       "      <td>/game/mass-effect/</td>\n",
       "    </tr>\n",
       "    <tr>\n",
       "      <th>19</th>\n",
       "      <td>236</td>\n",
       "      <td>The Operative: No One Lives Forever</td>\n",
       "      <td>/game/the-operative-no-one-lives-forever/</td>\n",
       "    </tr>\n",
       "    <tr>\n",
       "      <th>20</th>\n",
       "      <td>237</td>\n",
       "      <td>Resident Evil 3: Nemesis</td>\n",
       "      <td>/game/resident-evil-3-nemesis/</td>\n",
       "    </tr>\n",
       "    <tr>\n",
       "      <th>21</th>\n",
       "      <td>238</td>\n",
       "      <td>Forza Motorsport 4</td>\n",
       "      <td>/game/forza-motorsport-4/</td>\n",
       "    </tr>\n",
       "    <tr>\n",
       "      <th>22</th>\n",
       "      <td>239</td>\n",
       "      <td>Resident Evil</td>\n",
       "      <td>/game/resident-evil/</td>\n",
       "    </tr>\n",
       "    <tr>\n",
       "      <th>23</th>\n",
       "      <td>240</td>\n",
       "      <td>Crusader Kings III</td>\n",
       "      <td>/game/crusader-kings-iii/</td>\n",
       "    </tr>\n",
       "  </tbody>\n",
       "</table>\n",
       "</div>"
      ],
      "text/plain": [
       "    place                                               name  \\\n",
       "0     217                                    Forza Horizon 3   \n",
       "1     218  The Legend of Zelda: Ocarina of Time / Master ...   \n",
       "2     219                                 NCAA Football 2003   \n",
       "3     220                      Kentucky Route Zero - Act III   \n",
       "4     221                                             Crysis   \n",
       "5     222                                Ninja Gaiden (2004)   \n",
       "6     223                      God of War: Chains of Olympus   \n",
       "7     224                                     DOA2: Hardcore   \n",
       "8     225             World of Warcraft: The Burning Crusade   \n",
       "9     226                                   MLB 10: The Show   \n",
       "10    227                             Shadow of the Colossus   \n",
       "11    228              Yoshi's Island: Super Mario Advance 3   \n",
       "12    229              Star Wars Jedi Knight: Dark Forces II   \n",
       "13    230                                The Longest Journey   \n",
       "14    231                                  ESPN NFL Football   \n",
       "15    232                           Tony Hawk's Pro Skater 2   \n",
       "16    233                                        Halo: Reach   \n",
       "17    234             Galactic Civilizations II: Dark Avatar   \n",
       "18    235                                        Mass Effect   \n",
       "19    236                The Operative: No One Lives Forever   \n",
       "20    237                           Resident Evil 3: Nemesis   \n",
       "21    238                                 Forza Motorsport 4   \n",
       "22    239                                      Resident Evil   \n",
       "23    240                                 Crusader Kings III   \n",
       "\n",
       "                                                  url  \n",
       "0                              /game/forza-horizon-3/  \n",
       "1   /game/the-legend-of-zelda-ocarina-of-time-mast...  \n",
       "2                           /game/ncaa-football-2003/  \n",
       "3                  /game/kentucky-route-zero-act-iii/  \n",
       "4                                       /game/crysis/  \n",
       "5                            /game/ninja-gaiden-2004/  \n",
       "6                 /game/god-of-war-chains-of-olympus/  \n",
       "7                                /game/doa2-hardcore/  \n",
       "8        /game/world-of-warcraft-the-burning-crusade/  \n",
       "9                              /game/mlb-10-the-show/  \n",
       "10                      /game/shadow-of-the-colossus/  \n",
       "11         /game/yoshis-island-super-mario-advance-3/  \n",
       "12        /game/star-wars-jedi-knight-dark-forces-ii/  \n",
       "13                         /game/the-longest-journey/  \n",
       "14                           /game/espn-nfl-football/  \n",
       "15                     /game/tony-hawks-pro-skater-2/  \n",
       "16                                  /game/halo-reach/  \n",
       "17       /game/galactic-civilizations-ii-dark-avatar/  \n",
       "18                                 /game/mass-effect/  \n",
       "19          /game/the-operative-no-one-lives-forever/  \n",
       "20                     /game/resident-evil-3-nemesis/  \n",
       "21                          /game/forza-motorsport-4/  \n",
       "22                               /game/resident-evil/  \n",
       "23                          /game/crusader-kings-iii/  "
      ]
     },
     "execution_count": 305,
     "metadata": {},
     "output_type": "execute_result"
    }
   ],
   "source": [
    "pd.DataFrame(data_dict)"
   ]
  },
  {
   "cell_type": "code",
   "execution_count": null,
   "id": "c5ce6407-9d1a-4afa-a269-bffac4855f32",
   "metadata": {
    "tags": []
   },
   "outputs": [],
   "source": []
  },
  {
   "cell_type": "code",
   "execution_count": null,
   "id": "42c3de08-e883-4271-bd22-c3a479a317e1",
   "metadata": {
    "tags": []
   },
   "outputs": [],
   "source": []
  },
  {
   "cell_type": "code",
   "execution_count": null,
   "id": "db2a3a14-f8fc-4451-a32d-ed04fd477511",
   "metadata": {},
   "outputs": [],
   "source": []
  },
  {
   "cell_type": "code",
   "execution_count": null,
   "id": "ce4b0825-58e2-4eb1-972d-d05950c4dfb4",
   "metadata": {
    "tags": []
   },
   "outputs": [],
   "source": []
  },
  {
   "cell_type": "code",
   "execution_count": null,
   "id": "19ba3840-1b73-42bd-a587-3b075c8f13f4",
   "metadata": {},
   "outputs": [],
   "source": []
  }
 ],
 "metadata": {
  "kernelspec": {
   "display_name": "Python 3 (ipykernel)",
   "language": "python",
   "name": "python3"
  },
  "language_info": {
   "codemirror_mode": {
    "name": "ipython",
    "version": 3
   },
   "file_extension": ".py",
   "mimetype": "text/x-python",
   "name": "python",
   "nbconvert_exporter": "python",
   "pygments_lexer": "ipython3",
   "version": "3.11.3"
  }
 },
 "nbformat": 4,
 "nbformat_minor": 5
}
